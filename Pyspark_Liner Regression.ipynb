{
  "nbformat": 4,
  "nbformat_minor": 0,
  "metadata": {
    "colab": {
      "provenance": [],
      "authorship_tag": "ABX9TyOgFrlHkeRAkJod9IZnkXPN",
      "include_colab_link": true
    },
    "kernelspec": {
      "name": "python3",
      "display_name": "Python 3"
    },
    "language_info": {
      "name": "python"
    }
  },
  "cells": [
    {
      "cell_type": "markdown",
      "metadata": {
        "id": "view-in-github",
        "colab_type": "text"
      },
      "source": [
        "<a href=\"https://colab.research.google.com/github/Karthikeyan-Ravichandran22/PysparkRegressions/blob/master/Pyspark_Liner%20Regression.ipynb\" target=\"_parent\"><img src=\"https://colab.research.google.com/assets/colab-badge.svg\" alt=\"Open In Colab\"/></a>"
      ]
    },
    {
      "cell_type": "code",
      "execution_count": 3,
      "metadata": {
        "colab": {
          "base_uri": "https://localhost:8080/"
        },
        "id": "yEzfC2tsIu6D",
        "outputId": "5362c76b-499d-49d0-8354-4789ac154607"
      },
      "outputs": [
        {
          "output_type": "stream",
          "name": "stdout",
          "text": [
            "Looking in indexes: https://pypi.org/simple, https://us-python.pkg.dev/colab-wheels/public/simple/\n",
            "Collecting pyspark\n",
            "  Downloading pyspark-3.3.1.tar.gz (281.4 MB)\n",
            "\u001b[2K     \u001b[90m━━━━━━━━━━━━━━━━━━━━━━━━━━━━━━━━━━━━━━━\u001b[0m \u001b[32m281.4/281.4 MB\u001b[0m \u001b[31m4.6 MB/s\u001b[0m eta \u001b[36m0:00:00\u001b[0m\n",
            "\u001b[?25h  Preparing metadata (setup.py) ... \u001b[?25l\u001b[?25hdone\n",
            "Collecting py4j==0.10.9.5\n",
            "  Downloading py4j-0.10.9.5-py2.py3-none-any.whl (199 kB)\n",
            "\u001b[2K     \u001b[90m━━━━━━━━━━━━━━━━━━━━━━━━━━━━━━━━━━━━━━\u001b[0m \u001b[32m199.7/199.7 KB\u001b[0m \u001b[31m20.9 MB/s\u001b[0m eta \u001b[36m0:00:00\u001b[0m\n",
            "\u001b[?25hBuilding wheels for collected packages: pyspark\n",
            "  Building wheel for pyspark (setup.py) ... \u001b[?25l\u001b[?25hdone\n",
            "  Created wheel for pyspark: filename=pyspark-3.3.1-py2.py3-none-any.whl size=281845512 sha256=fcb9844c176cb498186b5fcde1348f12b04442b2a4927f7280b706ae5c9767e6\n",
            "  Stored in directory: /root/.cache/pip/wheels/43/dc/11/ec201cd671da62fa9c5cc77078235e40722170ceba231d7598\n",
            "Successfully built pyspark\n",
            "Installing collected packages: py4j, pyspark\n",
            "Successfully installed py4j-0.10.9.5 pyspark-3.3.1\n"
          ]
        }
      ],
      "source": [
        "!pip install pyspark\n",
        "import pyspark\n",
        "from pyspark.sql import SparkSession\n",
        "spark=SparkSession.builder.appName(\"Pratical_session\").getOrCreate()"
      ]
    },
    {
      "cell_type": "code",
      "source": [
        "from pyspark.ml.regression import LinearRegression"
      ],
      "metadata": {
        "id": "TsTHUjwIKUcw"
      },
      "execution_count": 5,
      "outputs": []
    },
    {
      "cell_type": "code",
      "source": [
        "!wget https://raw.githubusercontent.com/krishnaik06/PysparkRegressions/master/Ecommerce_Customers.csv"
      ],
      "metadata": {
        "colab": {
          "base_uri": "https://localhost:8080/"
        },
        "id": "9McAE-faLAi9",
        "outputId": "f9b01960-be5a-41db-cbec-f5af1f8e5b5a"
      },
      "execution_count": 4,
      "outputs": [
        {
          "output_type": "stream",
          "name": "stdout",
          "text": [
            "--2023-02-13 19:06:52--  https://raw.githubusercontent.com/krishnaik06/PysparkRegressions/master/Ecommerce_Customers.csv\n",
            "Resolving raw.githubusercontent.com (raw.githubusercontent.com)... 185.199.108.133, 185.199.109.133, 185.199.110.133, ...\n",
            "Connecting to raw.githubusercontent.com (raw.githubusercontent.com)|185.199.108.133|:443... connected.\n",
            "HTTP request sent, awaiting response... 200 OK\n",
            "Length: 66193 (65K) [text/plain]\n",
            "Saving to: ‘Ecommerce_Customers.csv’\n",
            "\n",
            "\rEcommerce_Customers   0%[                    ]       0  --.-KB/s               \rEcommerce_Customers 100%[===================>]  64.64K  --.-KB/s    in 0.007s  \n",
            "\n",
            "2023-02-13 19:06:52 (8.74 MB/s) - ‘Ecommerce_Customers.csv’ saved [66193/66193]\n",
            "\n"
          ]
        }
      ]
    },
    {
      "cell_type": "code",
      "source": [
        "dataset=spark.read.csv(\"/content/Ecommerce_Customers.csv\",inferSchema=True,header=True)"
      ],
      "metadata": {
        "id": "q9E4P-DwLOVy"
      },
      "execution_count": 6,
      "outputs": []
    },
    {
      "cell_type": "code",
      "source": [
        "dataset.show()"
      ],
      "metadata": {
        "colab": {
          "base_uri": "https://localhost:8080/"
        },
        "id": "GSyG8Y-sLdM2",
        "outputId": "007094a2-7851-438d-bd92-80907ab233fb"
      },
      "execution_count": 8,
      "outputs": [
        {
          "output_type": "stream",
          "name": "stdout",
          "text": [
            "+--------------------+--------------------+------------------+-----------+---------------+--------------------+-------------------+\n",
            "|               Email|             Address|Avg Session Length|Time on App|Time on Website|Length of Membership|Yearly Amount Spent|\n",
            "+--------------------+--------------------+------------------+-----------+---------------+--------------------+-------------------+\n",
            "|mstephenson@ferna...|835 Frank TunnelW...|       34.49726773|12.65565115|    39.57766802|         4.082620633|         587.951054|\n",
            "|   hduke@hotmail.com|4547 Archer Commo...|       31.92627203|11.10946073|    37.26895887|         2.664034182|        392.2049334|\n",
            "|    pallen@yahoo.com|24645 Valerie Uni...|       33.00091476|11.33027806|    37.11059744|         4.104543202|        487.5475049|\n",
            "|riverarebecca@gma...|1414 David Throug...|       34.30555663|13.71751367|    36.72128268|         3.120178783|         581.852344|\n",
            "|mstephens@davidso...|14023 Rodriguez P...|       33.33067252|12.79518855|     37.5366533|         4.446308318|         599.406092|\n",
            "|alvareznancy@luca...|645 Martha Park A...|       33.87103788|12.02692534|    34.47687763|         5.493507201|        637.1024479|\n",
            "|katherine20@yahoo...|68388 Reyes Light...|        32.0215955|11.36634831|    36.68377615|         4.685017247|        521.5721748|\n",
            "|  awatkins@yahoo.com|Unit 6538 Box 898...|       32.73914294|12.35195897|    37.37335886|         4.434273435|        549.9041461|\n",
            "|vchurch@walter-ma...|860 Lee KeyWest D...|        33.9877729|13.38623528|    37.53449734|         3.273433578|         570.200409|\n",
            "|    bonnie69@lin.biz|PSC 2734, Box 525...|       31.93654862|11.81412829|    37.14516822|         3.202806072|        427.1993849|\n",
            "|andrew06@peterson...|26104 Alexander G...|       33.99257277|13.33897545|    37.22580613|         2.482607771|        492.6060127|\n",
            "|ryanwerner@freema...|Unit 2413 Box 034...|       33.87936082|  11.584783|    37.08792607|         3.713209203|        522.3374046|\n",
            "|   knelson@gmail.com|6705 Miller Orcha...|       29.53242897| 10.9612984|    37.42021558|         4.046423164|        408.6403511|\n",
            "|wrightpeter@yahoo...|05302 Dunlap Ferr...|       33.19033404|12.95922609|     36.1446667|         3.918541839|        573.4158673|\n",
            "|taylormason@gmail...|7773 Powell Sprin...|       32.38797585|13.14872569|    36.61995708|         2.494543647|        470.4527333|\n",
            "| jstark@anderson.com|49558 Ramirez Roa...|       30.73772037|12.63660605|    36.21376309|         3.357846842|        461.7807422|\n",
            "| wjennings@gmail.com|6362 Wilson Mount...|        32.1253869|11.73386169|    34.89409275|         3.136132716|        457.8476959|\n",
            "|rebecca45@hale-ba...|8982 Burton RowWi...|       32.33889932|12.01319469|    38.38513659|         2.420806161|        407.7045475|\n",
            "|alejandro75@hotma...|64475 Andre Club ...|       32.18781205|14.71538754|    38.24411459|         1.516575581|        452.3156755|\n",
            "|samuel46@love-wes...|544 Alexander Hei...|       32.61785606|13.98959256|     37.1905038|          4.06454855|        605.0610388|\n",
            "+--------------------+--------------------+------------------+-----------+---------------+--------------------+-------------------+\n",
            "only showing top 20 rows\n",
            "\n"
          ]
        }
      ]
    },
    {
      "cell_type": "code",
      "source": [
        "dataset.printSchema()"
      ],
      "metadata": {
        "colab": {
          "base_uri": "https://localhost:8080/"
        },
        "id": "ierDJs5dL7OA",
        "outputId": "6faf9c5e-1353-488b-b22d-9a96f05c39eb"
      },
      "execution_count": 9,
      "outputs": [
        {
          "output_type": "stream",
          "name": "stdout",
          "text": [
            "root\n",
            " |-- Email: string (nullable = true)\n",
            " |-- Address: string (nullable = true)\n",
            " |-- Avg Session Length: double (nullable = true)\n",
            " |-- Time on App: double (nullable = true)\n",
            " |-- Time on Website: double (nullable = true)\n",
            " |-- Length of Membership: double (nullable = true)\n",
            " |-- Yearly Amount Spent: double (nullable = true)\n",
            "\n"
          ]
        }
      ]
    },
    {
      "cell_type": "code",
      "source": [
        "from pyspark.ml.linalg import Vectors\n",
        "from pyspark.ml.feature import VectorAssembler\n"
      ],
      "metadata": {
        "id": "bGzk835dTr7K"
      },
      "execution_count": 10,
      "outputs": []
    },
    {
      "cell_type": "code",
      "source": [
        "featureAssembler = VectorAssembler(inputCols=[\"Avg Session Length\",\"Time on App\",\"Time on Website\",\"Length of Membership\"],outputCol=\"Indepent Feature\")"
      ],
      "metadata": {
        "id": "lz997F3fTsAa"
      },
      "execution_count": 18,
      "outputs": []
    },
    {
      "cell_type": "code",
      "source": [
        "output=featureAssembler.transform(dataset)"
      ],
      "metadata": {
        "id": "Jq_YdEs_TsC_"
      },
      "execution_count": 19,
      "outputs": []
    },
    {
      "cell_type": "code",
      "source": [
        "output.select(\"Indepent Feature\").show()"
      ],
      "metadata": {
        "colab": {
          "base_uri": "https://localhost:8080/"
        },
        "id": "E6NWcZ1oWWN3",
        "outputId": "44a90321-e74e-4254-8b47-94e6859c9b43"
      },
      "execution_count": 21,
      "outputs": [
        {
          "output_type": "stream",
          "name": "stdout",
          "text": [
            "+--------------------+\n",
            "|    Indepent Feature|\n",
            "+--------------------+\n",
            "|[34.49726773,12.6...|\n",
            "|[31.92627203,11.1...|\n",
            "|[33.00091476,11.3...|\n",
            "|[34.30555663,13.7...|\n",
            "|[33.33067252,12.7...|\n",
            "|[33.87103788,12.0...|\n",
            "|[32.0215955,11.36...|\n",
            "|[32.73914294,12.3...|\n",
            "|[33.9877729,13.38...|\n",
            "|[31.93654862,11.8...|\n",
            "|[33.99257277,13.3...|\n",
            "|[33.87936082,11.5...|\n",
            "|[29.53242897,10.9...|\n",
            "|[33.19033404,12.9...|\n",
            "|[32.38797585,13.1...|\n",
            "|[30.73772037,12.6...|\n",
            "|[32.1253869,11.73...|\n",
            "|[32.33889932,12.0...|\n",
            "|[32.18781205,14.7...|\n",
            "|[32.61785606,13.9...|\n",
            "+--------------------+\n",
            "only showing top 20 rows\n",
            "\n"
          ]
        }
      ]
    },
    {
      "cell_type": "code",
      "source": [
        "Final_model = output.select(\"Indepent Feature\",\"Yearly Amount Spent\")"
      ],
      "metadata": {
        "id": "jXKIwVX6Tqq0"
      },
      "execution_count": 23,
      "outputs": []
    },
    {
      "cell_type": "code",
      "source": [
        "train_data, test_data = Final_model.randomSplit([0.75,0.25])"
      ],
      "metadata": {
        "id": "rmPLnT9NTqzl"
      },
      "execution_count": 24,
      "outputs": []
    },
    {
      "cell_type": "code",
      "source": [
        "Regressor= LinearRegression(featuresCol=\"Indepent Feature\",labelCol=\"Yearly Amount Spent\")"
      ],
      "metadata": {
        "id": "T4ZX0ZDEMD6D"
      },
      "execution_count": 25,
      "outputs": []
    },
    {
      "cell_type": "code",
      "source": [
        "Regressor=Regressor.fit(train_data)"
      ],
      "metadata": {
        "id": "F0kOBdvnbNj-"
      },
      "execution_count": 27,
      "outputs": []
    },
    {
      "cell_type": "code",
      "source": [
        "Regressor.coefficients"
      ],
      "metadata": {
        "colab": {
          "base_uri": "https://localhost:8080/"
        },
        "id": "-i2Uk7bNbkgU",
        "outputId": "96ed5143-d43b-4cf2-d3f2-30597244c1f6"
      },
      "execution_count": 28,
      "outputs": [
        {
          "output_type": "execute_result",
          "data": {
            "text/plain": [
              "DenseVector([25.4222, 38.4082, 0.603, 61.7869])"
            ]
          },
          "metadata": {},
          "execution_count": 28
        }
      ]
    },
    {
      "cell_type": "code",
      "source": [
        "Regressor.intercept"
      ],
      "metadata": {
        "colab": {
          "base_uri": "https://localhost:8080/"
        },
        "id": "hr2klZjEbnN2",
        "outputId": "2f2c0deb-1aec-47be-fe01-9398e6cd3d3a"
      },
      "execution_count": 29,
      "outputs": [
        {
          "output_type": "execute_result",
          "data": {
            "text/plain": [
              "-1044.8815364341979"
            ]
          },
          "metadata": {},
          "execution_count": 29
        }
      ]
    },
    {
      "cell_type": "code",
      "source": [
        "prediction=Regressor.evaluate(test_data)"
      ],
      "metadata": {
        "id": "VKuYsMX7brXy"
      },
      "execution_count": 32,
      "outputs": []
    },
    {
      "cell_type": "code",
      "source": [
        "prediction.predictions.show()"
      ],
      "metadata": {
        "colab": {
          "base_uri": "https://localhost:8080/"
        },
        "id": "-te_lCHZbzZm",
        "outputId": "9ac8c2dd-e44e-43bb-e2e3-053919e05234"
      },
      "execution_count": 35,
      "outputs": [
        {
          "output_type": "stream",
          "name": "stdout",
          "text": [
            "+--------------------+-------------------+------------------+\n",
            "|    Indepent Feature|Yearly Amount Spent|        prediction|\n",
            "+--------------------+-------------------+------------------+\n",
            "|[30.39318454,11.8...|        319.9288698|331.76147215592005|\n",
            "|[31.38958548,10.9...|        410.0696111|410.19577229538186|\n",
            "|[31.42522688,13.2...|        530.7667187| 534.7184119590181|\n",
            "|[31.6739155,12.32...|        475.7250679|  502.298439145389|\n",
            "|[31.7207699,11.75...|        538.7749335| 546.5889371015414|\n",
            "|[31.82797906,12.4...|        440.0027475|449.23453612948015|\n",
            "|[31.82934646,11.2...|         385.152338| 384.2724740222336|\n",
            "|[31.90962683,11.3...|        563.4460357| 552.4191955499834|\n",
            "|[31.95630056,12.8...|        547.1259317| 564.9747321737607|\n",
            "|[32.01230077,12.1...|        492.9450531| 489.4367586884887|\n",
            "|[32.04781463,12.4...|        497.3895578| 480.4074345122083|\n",
            "|[32.08838063,11.9...|        512.1658664| 518.2121287203101|\n",
            "|[32.09610899,10.8...|        375.3984554| 375.4010094905086|\n",
            "|[32.1223648,11.43...|        528.9336186| 532.6420135307887|\n",
            "|[32.14906052,10.0...|        392.9922559|399.15927477029186|\n",
            "|[32.17550124,13.3...|        588.7126055| 577.1471639037766|\n",
            "|[32.27184828,13.4...|          511.97986| 506.8122968965895|\n",
            "|[32.28866691,12.0...|        507.3900618| 502.8916121483487|\n",
            "|[32.29524763,11.0...|        413.2959992|414.89582352258094|\n",
            "|[32.29964716,12.1...|        547.1109824| 538.0455779150545|\n",
            "+--------------------+-------------------+------------------+\n",
            "only showing top 20 rows\n",
            "\n"
          ]
        }
      ]
    }
  ]
}